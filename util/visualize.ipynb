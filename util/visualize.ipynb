{
 "cells": [
  {
   "cell_type": "code",
   "execution_count": 3,
   "metadata": {},
   "outputs": [],
   "source": [
    "from misc import *\n",
    "import numpy as np\n",
    "from PIL import Image\n"
   ]
  },
  {
   "cell_type": "code",
   "execution_count": null,
   "metadata": {},
   "outputs": [],
   "source": [
    "image_path = \"[PATH TO IMAGE]\"\n",
    "data = \"[PATH TO ODVG DATA]\"\n",
    "\n",
    "vis_data = load_jsonl(data)"
   ]
  },
  {
   "cell_type": "code",
   "execution_count": 4,
   "metadata": {},
   "outputs": [],
   "source": [
    "def visualize_one(data, image_path, index, grounding=True, show_plot=True):\n",
    "    ''' Visualize one entry from dataset in JSONL format. '''\n",
    "    entry = data[index]\n",
    "    img_path = image_path + entry[\"filename\"]\n",
    "    \n",
    "    image_source = Image.open(img_path).convert(\"RGB\")\n",
    "    image = np.asarray(image_source)\n",
    "    \n",
    "    if grounding:\n",
    "        if len(entry[\"grounding\"][\"regions\"]) == 0:\n",
    "            print(\"No regions found in grounding\")\n",
    "            return image[...,::-1]\n",
    "        \n",
    "        boxes = []\n",
    "        labels = []\n",
    "\n",
    "        for obj in entry[\"grounding\"][\"regions\"]:\n",
    "            if obj[\"phrase\"] != '':\n",
    "                boxes.append(obj[\"bbox\"])\n",
    "                labels.append(obj[\"phrase\"])\n",
    "        \n",
    "        boxes = np.array(boxes)\n",
    "        print(\"Caption: \", entry[\"grounding\"][\"caption\"])\n",
    "        \n",
    "    else:\n",
    "        boxes = np.array([b[\"bbox\"] for b in entry[\"detection\"][\"instances\"]])\n",
    "        labels = [p[\"category\"] for p in entry[\"detection\"][\"instances\"]] \n",
    "    \n",
    "    logits = []\n",
    "    \n",
    "    annotated_frame = plot(boxes, logits, labels, image, show_plot, scale=0.5, thickness=1)\n",
    "    return annotated_frame\n",
    "    "
   ]
  },
  {
   "cell_type": "code",
   "execution_count": null,
   "metadata": {},
   "outputs": [],
   "source": [
    "idx = 0 # specify index of entry to visualize\n",
    "img = visualize_one(vis_data, image_path, idx\n",
    "              , grounding=True, show_plot=True)"
   ]
  }
 ],
 "metadata": {
  "kernelspec": {
   "display_name": "data",
   "language": "python",
   "name": "python3"
  },
  "language_info": {
   "codemirror_mode": {
    "name": "ipython",
    "version": 3
   },
   "file_extension": ".py",
   "mimetype": "text/x-python",
   "name": "python",
   "nbconvert_exporter": "python",
   "pygments_lexer": "ipython3",
   "version": "3.11.9"
  }
 },
 "nbformat": 4,
 "nbformat_minor": 2
}
